{
 "cells": [
  {
   "cell_type": "code",
   "execution_count": 14,
   "metadata": {},
   "outputs": [
    {
     "name": "stdout",
     "output_type": "stream",
     "text": [
      "Mallika's average grade is 66.00\n",
      "Libisha's average grade is 68.5\n",
      "Tenten's average grade is 68.5\n"
     ]
    }
   ],
   "source": [
    "#Q.no 1.Create a class called Student with attributes name, age, and \n",
    "#grades (a list of integers). Write a method average_grade that calculates and returns the average grade of the student.\n",
    " #Create three Student objects and print their average grades.\n",
    "\n",
    "class Student:\n",
    "    def __init__(self, name, age, grades):  \n",
    "        self.name=name\n",
    "        self.age = age\n",
    "        self.grades = grades  \n",
    "\n",
    "    def average_grade(self):\n",
    "        return sum(self.grades) / len(self.grades) if self.grades else 0\n",
    "\n",
    "\n",
    "student1 = Student(\"Mallika\", 21, [70, 46, 58, 90])\n",
    "student2 = Student(\"Libisha\", 21, [80, 66, 48, 80])\n",
    "student3 = Student(\"Tenten\", 21, [90, 46, 68, 70])\n",
    "\n",
    "\n",
    "print(f\"{student1.name}'s average grade is {student1.average_grade():.2f}\")\n",
    "print(f\"{student2.name}'s average grade is {student2.average_grade()}\")\n",
    "print(f\"{student3.name}'s average grade is {student3.average_grade()}\")\n",
    "\n"
   ]
  },
  {
   "cell_type": "code",
   "execution_count": 17,
   "metadata": {},
   "outputs": [
    {
     "name": "stdout",
     "output_type": "stream",
     "text": [
      "short tittle of 'Automic habits'is 'Automic ha'\n",
      "short tittle of 'To Kill a Mockingbird'is 'To Kill a '\n",
      "short tittle of 'Pride and Prejudice'is 'Pride and '\n"
     ]
    }
   ],
   "source": [
    "# Qno.2.Create a class called Book with attributes title, author. Write\n",
    "# a method short_title that returns the first 10 characters of the book's \n",
    "# title. Create three Book objects and print their short titles.\n",
    "\n",
    "\n",
    "class Book:\n",
    "    def __init__(self,tittle,author):\n",
    "        self.tittle= tittle\n",
    "        self.author= author\n",
    "    def short_tittle(self):\n",
    "        return self.tittle[:10]\n",
    "    \n",
    "book1=Book(\"Automic habits\",\"james clear\")\n",
    "book2=Book(\"To Kill a Mockingbird\",\"Harper Lee\")\n",
    "book3=Book(\"Pride and Prejudice\",\"Jane Austen\")\n",
    "\n",
    "print(f\"short tittle of '{book1.tittle}'is '{book1.short_tittle()}'\")\n",
    "print(f\"short tittle of '{book2.tittle}'is '{book2.short_tittle()}'\")\n",
    "print(f\"short tittle of '{book3.tittle}'is '{book3.short_tittle()}'\")\n",
    "\n",
    "        \n",
    "\n"
   ]
  },
  {
   "cell_type": "code",
   "execution_count": 22,
   "metadata": {},
   "outputs": [
    {
     "name": "stdout",
     "output_type": "stream",
     "text": [
      "Students who have passed:\n",
      "Mallika\n",
      "Libisha\n",
      "Tenten\n"
     ]
    }
   ],
   "source": [
    "#Qno.3. Create a class called StudentResult with attributes name, age, \n",
    "# and average_grade and include a method has_passed that returns True if\n",
    "#  the student's average grade is 50 or higher, and False otherwise .\n",
    "#  Create three Student objects and print the names of the students who have passed.\n",
    "\n",
    "\n",
    "class StudentResult:\n",
    "    def __init__(self, name, age, average_grade):\n",
    "        self.name = name\n",
    "        self.age = age\n",
    "        self.average_grade = average_grade\n",
    "\n",
    "    def has_passed(self):\n",
    "        return self.average_grade >= 50  # Returns True if average grade is 50 or higher\n",
    "\n",
    "\n",
    "student1 = StudentResult(\"Mallika\", 21, 70)\n",
    "student2 = StudentResult(\"Libisha\", 21, 55)\n",
    "student3 = StudentResult(\"Tenten\", 21, 58)\n",
    "\n",
    "\n",
    "print(\"Students who have passed:\")\n",
    "for student in [student1, student2, student3]:\n",
    "    if student.has_passed():\n",
    "        print(student.name)\n",
    "\n",
    "      \n",
    "\n",
    "\n",
    "    \n",
    "\n"
   ]
  },
  {
   "cell_type": "code",
   "execution_count": 28,
   "metadata": {},
   "outputs": [
    {
     "name": "stdout",
     "output_type": "stream",
     "text": [
      "Total Price: 1500\n"
     ]
    }
   ],
   "source": [
    "#Q.no.4. Create a class called ShoppingCart with a list attribute items\n",
    "#  (each item is a dictionary with keys name and price). Write a method\n",
    "#  total_price that calculates and returns the total price of all items\n",
    "#  in the cart. Create a ShoppingCart object, add five items to it, and\n",
    "#  print the total price.\n",
    "\n",
    "class ShoppingCart:\n",
    "    def __init__(self):\n",
    "        self.items = []  \n",
    "\n",
    "    def add_item(self, name, price):\n",
    "        self.items.append({\"name\": name, \"price\": price})  \n",
    "\n",
    "    def total_price(self):\n",
    "        return sum(item[\"price\"] for item in self.items)  \n",
    "\n",
    "\n",
    "cart = ShoppingCart()\n",
    "\n",
    "\n",
    "cart.add_item(\"Laptop\", 800)\n",
    "cart.add_item(\"Smartphone\", 500)\n",
    "cart.add_item(\"Headphones\", 100)\n",
    "cart.add_item(\"Mouse\", 40)\n",
    "cart.add_item(\"Keyboard\", 60)\n",
    "\n",
    "\n",
    "print(\"Total Price:\", cart.total_price())\n"
   ]
  },
  {
   "cell_type": "code",
   "execution_count": 29,
   "metadata": {},
   "outputs": [
    {
     "name": "stdout",
     "output_type": "stream",
     "text": [
      "world count 2\n"
     ]
    }
   ],
   "source": [
    "#Qno.5. Create a class called TextAnalyzer with a string attribute text.\n",
    "#  Write a method word_count that returns the number of words in the \n",
    "# text.Create a TextAnalyzer object with a sample text and print the \n",
    "# word count.\n",
    "\n",
    "class TextAnalyzer: \n",
    "     def __init__(self,text):\n",
    "          self.text=text\n",
    "      \n",
    "     def word_count(self):\n",
    "          return len(self.text.split())\n",
    "word=\"hello world \"\n",
    "analyzer=TextAnalyzer(word)\n",
    "\n",
    "print(\"world count\",analyzer.word_count())\n",
    "      \n"
   ]
  },
  {
   "cell_type": "code",
   "execution_count": 30,
   "metadata": {},
   "outputs": [
    {
     "name": "stdout",
     "output_type": "stream",
     "text": [
      "Shuffled Playlist:\n",
      "Song 3 - Artist C\n",
      "Song 1 - Artist A\n",
      "Song 5 - Artist E\n",
      "Song 4 - Artist D\n",
      "Song 2 - Artist B\n"
     ]
    }
   ],
   "source": [
    "#Q.no.6. Create a class called Playlist with a list attribute songs (each song is a dictionary with keys title and artist). Write a method shuffle that randomly shuffles the songs in the playlist. Create a Playlist object, add five songs to it, shuffle the playlist, and print the shuffled list of songs.\n",
    "#Hint : \n",
    "#Use random.shuffle(list_varible) to shuffle (preq. import random)\n",
    "#Use loop to print the shuffled songs with title and artist\n",
    "\n",
    "import random\n",
    "\n",
    "class Playlist:\n",
    "    def __init__(self):\n",
    "         self.songs = []\n",
    "\n",
    "    def add_song(self, title, artist):\n",
    "        self.songs.append({\"title\": title, \"artist\": artist})\n",
    "\n",
    "    def shuffle(self):\n",
    "        random.shuffle(self.songs)\n",
    "\n",
    "    def show_songs(self):\n",
    "        \n",
    "        for song in self.songs:\n",
    "            print(f\"{song['title']} - {song['artist']}\")\n",
    "\n",
    "\n",
    "my_playlist = Playlist()\n",
    "\n",
    "\n",
    "my_playlist.add_song(\"Song 1\", \"Artist A\")\n",
    "my_playlist.add_song(\"Song 2\", \"Artist B\")\n",
    "my_playlist.add_song(\"Song 3\", \"Artist C\")\n",
    "my_playlist.add_song(\"Song 4\", \"Artist D\")\n",
    "my_playlist.add_song(\"Song 5\", \"Artist E\")\n",
    "\n",
    "\n",
    "my_playlist.shuffle()\n",
    "print(\"Shuffled Playlist:\")\n",
    "my_playlist.show_songs()\n",
    "\n",
    "\n",
    "\n"
   ]
  }
 ],
 "metadata": {
  "kernelspec": {
   "display_name": "Python 3",
   "language": "python",
   "name": "python3"
  },
  "language_info": {
   "codemirror_mode": {
    "name": "ipython",
    "version": 3
   },
   "file_extension": ".py",
   "mimetype": "text/x-python",
   "name": "python",
   "nbconvert_exporter": "python",
   "pygments_lexer": "ipython3",
   "version": "3.13.1"
  }
 },
 "nbformat": 4,
 "nbformat_minor": 2
}
